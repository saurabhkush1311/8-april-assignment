{
 "cells": [
  {
   "cell_type": "markdown",
   "id": "44e201fd-0e73-4d52-a848-a4831bb8fda2",
   "metadata": {},
   "source": [
    "# ANSWER 1\n",
    "In this situation, the most appropriate regression metrics to employ are those that assess the model's accuracy in predicting continuous values. Some common regression metrics are:\n",
    "\n",
    "Mean Squared Error (MSE): MSE calculates the average squared difference between the predicted values and the actual target values. It penalizes larger errors more heavily.\n",
    "\n",
    "Root Mean Squared Error (RMSE): RMSE is the square root of MSE, and it represents the average error in the same unit as the target variable.\n",
    "\n",
    "Mean Absolute Error (MAE): MAE calculates the average absolute difference between the predicted values and the actual target values. It provides a more interpretable measure of error.\n",
    "\n",
    "R-squared (R²): R-squared measures the proportion of the variance in the target variable that is predictable from the independent variables. It indicates how well the model fits the data.\n",
    "\n",
    "For house price prediction, MSE and RMSE are commonly used as they put more weight on larger errors, which is important when dealing with significant differences in house prices. However, MAE and R-squared can also be valuable depending on the context and your specific needs.\n",
    "\n",
    "It's essential to choose the regression metric that aligns with your goals and the interpretation of the model's performance. If you want to prioritize minimizing large prediction errors, MSE or RMSE may be more appropriate. On the other hand, if you want a more interpretable measure of average error, MAE might be a better choice. R-squared can provide insights into how well the model explains the variance in the house prices, with higher values indicating a better fit."
   ]
  },
  {
   "cell_type": "markdown",
   "id": "ca03fe76-140f-4afa-bc02-13249a9c1a61",
   "metadata": {},
   "source": [
    "# ANSWER 2\n",
    " If goal is to predict the actual price of a house as accurately as possible, the most appropriate evaluation metric would be the Mean Squared Error (MSE) or Root Mean Squared Error (RMSE). Both MSE and RMSE penalize larger prediction errors more heavily, which is crucial when predicting house prices, as even small errors in prediction can lead to significant differences in house values. By using MSE or RMSE, you prioritize minimizing the overall prediction errors and aim to make the predictions as close to the actual prices as possible."
   ]
  },
  {
   "cell_type": "markdown",
   "id": "f7e144b6-cdf6-4a6f-94a0-41c878c383e1",
   "metadata": {},
   "source": [
    "# ANSWER 3\n",
    "When dealing with a dataset that has a significant number of outliers, the most appropriate regression metric to use with your SVM model would be the Mean Absolute Error (MAE). Unlike MSE or RMSE, MAE is less sensitive to outliers because it calculates the average absolute difference between the predicted values and the actual target values. This means that extreme values (outliers) do not contribute as much to the MAE as they do to MSE or RMSE, making it a more robust choice for datasets with outliers."
   ]
  },
  {
   "cell_type": "markdown",
   "id": "71f36c67-617e-491e-8443-0dd423f0e12f",
   "metadata": {},
   "source": [
    "# ANSWER 4\n",
    " If both MSE and RMSE values are very close, either metric can be used to evaluate the performance of the SVM regression model with a polynomial kernel. Both metrics measure the average prediction error, with RMSE being the square root of MSE. Since they are very close, it suggests that the model is making consistent predictions. In such cases,choose either metric based on your preference or the context of your problem. RMSE provides the error measurement in the same unit as the target variable, while MSE gives the squared error. Prefer to interpret the errors in the original unit of the target variable, RMSE might be more suitable."
   ]
  },
  {
   "cell_type": "markdown",
   "id": "c44cf446-0e70-4d80-b006-9ef76d5f748a",
   "metadata": {},
   "source": [
    "# ANSWER 5\n",
    "For SVM regression models using different kernels (linear, polynomial, and RBF), comparing their R-squared values would allow you to assess how well each model captures the variance in the target variable. Higher R-squared values indicate a better fit, meaning that the model can explain a larger portion of the variance in the target variable.\n",
    "\n",
    "If goal is to measure how well the model explains the variance in the target variable, the most appropriate evaluation metric would be R-squared (R²). R-squared measures the proportion of the variance in the target variable that is predictable from the independent variables (features). It provides an indication of how well the model fits the data and explains the variance in the target variable. Higher R-squared values indicate a better fit, meaning that the model can explain a larger portion of the variance in the target variable. This makes R-squared a suitable metric for comparing the performance of different SVM regression models using different kernels, as it directly measures the model's ability to capture the variance in the target variable."
   ]
  },
  {
   "cell_type": "code",
   "execution_count": null,
   "id": "b7c4a543-7209-4da7-afeb-3478726cfb20",
   "metadata": {},
   "outputs": [],
   "source": []
  }
 ],
 "metadata": {
  "kernelspec": {
   "display_name": "Python 3 (ipykernel)",
   "language": "python",
   "name": "python3"
  },
  "language_info": {
   "codemirror_mode": {
    "name": "ipython",
    "version": 3
   },
   "file_extension": ".py",
   "mimetype": "text/x-python",
   "name": "python",
   "nbconvert_exporter": "python",
   "pygments_lexer": "ipython3",
   "version": "3.10.8"
  }
 },
 "nbformat": 4,
 "nbformat_minor": 5
}
